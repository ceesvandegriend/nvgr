{
 "cells": [
  {
   "attachments": {},
   "cell_type": "markdown",
   "metadata": {},
   "source": [
    "# Examples"
   ]
  },
  {
   "cell_type": "code",
   "execution_count": 2,
   "metadata": {},
   "outputs": [],
   "source": [
    "from nvgr import Latitude, Longitude, Position\n",
    "from nvgr.loxodrome import north, east, south, west, dr"
   ]
  },
  {
   "cell_type": "code",
   "execution_count": 3,
   "metadata": {},
   "outputs": [
    {
     "name": "stdout",
     "output_type": "stream",
     "text": [
      "Rotterdam: 51°55.4'N 004°28.8'E\n"
     ]
    }
   ],
   "source": [
    "rotterdam = Position(Latitude(51.922743), Longitude(4.479305))\n",
    "\n",
    "print(f\"Rotterdam: {rotterdam}\")"
   ]
  },
  {
   "cell_type": "code",
   "execution_count": 4,
   "metadata": {},
   "outputs": [
    {
     "name": "stdout",
     "output_type": "stream",
     "text": [
      "Buenos Aires: 34°36.7'S 058°25.3'W\n"
     ]
    }
   ],
   "source": [
    "buenos_aires = Position(Latitude(-34.611523), Longitude(-58.421025))\n",
    "\n",
    "print(f\"Buenos Aires: {buenos_aires}\")"
   ]
  },
  {
   "cell_type": "code",
   "execution_count": 5,
   "metadata": {},
   "outputs": [
    {
     "name": "stdout",
     "output_type": "stream",
     "text": [
      "Arrival (north): 02°00.0'N 000°00.0'E\n",
      "Arrival (east):  00°00.0'N 002°00.0'E\n",
      "Arrival (south): 02°00.0'S 000°00.0'E\n",
      "Arrival (west):  00°00.0'N 002°00.0'W\n"
     ]
    }
   ],
   "source": [
    "departure = Position.parse(\"00-00.0N 000-00.0E\")\n",
    "arrival_n = north(departure, 120.0)\n",
    "arrival_e = east(departure, 120.0)\n",
    "arrival_s = south(departure, 120.0)\n",
    "arrival_w = west(departure, 120.0)\n",
    "\n",
    "print(f\"Arrival (north): {arrival_n}\")\n",
    "print(f\"Arrival (east):  {arrival_e}\")\n",
    "print(f\"Arrival (south): {arrival_s}\")\n",
    "print(f\"Arrival (west):  {arrival_w}\")"
   ]
  },
  {
   "cell_type": "code",
   "execution_count": 7,
   "metadata": {},
   "outputs": [
    {
     "name": "stdout",
     "output_type": "stream",
     "text": [
      "Arrival:  46°06.9'N 006°14.0'W\n"
     ]
    }
   ],
   "source": [
    "departure = Position.parse(\"46 11.8’N 006 20.2’W\")\n",
    "course = 139.0 # degrees\n",
    "distance = 6.5 # Nautical Miles\n",
    "arrival = dr(departure, course, distance)\n",
    "\n",
    "print(f\"Arrival:  {arrival}\")"
   ]
  }
 ],
 "metadata": {
  "kernelspec": {
   "display_name": "Python 3",
   "language": "python",
   "name": "python3"
  },
  "language_info": {
   "codemirror_mode": {
    "name": "ipython",
    "version": 3
   },
   "file_extension": ".py",
   "mimetype": "text/x-python",
   "name": "python",
   "nbconvert_exporter": "python",
   "pygments_lexer": "ipython3",
   "version": "3.11.1"
  },
  "orig_nbformat": 4,
  "vscode": {
   "interpreter": {
    "hash": "1a1af0ee75eeea9e2e1ee996c87e7a2b11a0bebd85af04bb136d915cefc0abce"
   }
  }
 },
 "nbformat": 4,
 "nbformat_minor": 2
}
